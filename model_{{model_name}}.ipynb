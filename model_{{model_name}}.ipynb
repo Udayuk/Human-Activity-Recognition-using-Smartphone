{
  "nbformat": 4,
  "nbformat_minor": 0,
  "metadata": {
    "colab": {
      "name": "model_{{model name}}.ipynb",
      "provenance": []
    },
    "kernelspec": {
      "name": "python3",
      "display_name": "Python 3"
    }
  },
  "cells": [
    {
      "cell_type": "markdown",
      "metadata": {
        "id": "xnqZksG6mnzF"
      },
      "source": [
        "## Setting to current path\r\n",
        "\r\n",
        "\r\n"
      ]
    },
    {
      "cell_type": "code",
      "metadata": {
        "colab": {
          "base_uri": "https://localhost:8080/"
        },
        "id": "a1iZjF5Rmc3A",
        "outputId": "fb17fc7f-7f2f-4a54-b641-a62ff61ed3f9"
      },
      "source": [
        "cd /content/drive/MyDrive/DSCNITP/Human Activity Detection"
      ],
      "execution_count": 3,
      "outputs": [
        {
          "output_type": "stream",
          "text": [
            "/content/drive/MyDrive/DSCNITP/Human Activity Detection\n"
          ],
          "name": "stdout"
        }
      ]
    },
    {
      "cell_type": "markdown",
      "metadata": {
        "id": "kXiSxN28kgVe"
      },
      "source": [
        "## Importing All Required Libraries"
      ]
    },
    {
      "cell_type": "code",
      "metadata": {
        "id": "VgEHgQK0kXAi"
      },
      "source": [
        "import numpy as np\r\n",
        "import pandas as pd"
      ],
      "execution_count": 1,
      "outputs": []
    },
    {
      "cell_type": "markdown",
      "metadata": {
        "id": "wpk9a9hQkv77"
      },
      "source": [
        "## Loading the Dataset ( Training & Testing )\r\n",
        "\r\n"
      ]
    },
    {
      "cell_type": "code",
      "metadata": {
        "id": "j7zMoMNPkuyI"
      },
      "source": [
        ""
      ],
      "execution_count": null,
      "outputs": []
    },
    {
      "cell_type": "markdown",
      "metadata": {
        "id": "RJpmdfEtk69n"
      },
      "source": [
        "## Data Preparation "
      ]
    },
    {
      "cell_type": "code",
      "metadata": {
        "id": "ti5zmuw6lDqZ"
      },
      "source": [
        ""
      ],
      "execution_count": null,
      "outputs": []
    },
    {
      "cell_type": "markdown",
      "metadata": {
        "id": "S_wOi0hqlEeN"
      },
      "source": [
        "## Model Part"
      ]
    },
    {
      "cell_type": "code",
      "metadata": {
        "id": "nev2Vrb8lHDL"
      },
      "source": [
        ""
      ],
      "execution_count": null,
      "outputs": []
    },
    {
      "cell_type": "markdown",
      "metadata": {
        "id": "5nkCWsmflH5b"
      },
      "source": [
        "## Predicting with Test Data"
      ]
    },
    {
      "cell_type": "code",
      "metadata": {
        "id": "Pj7rdpamlLrv"
      },
      "source": [
        ""
      ],
      "execution_count": null,
      "outputs": []
    },
    {
      "cell_type": "markdown",
      "metadata": {
        "id": "iJ1sSQK0lMVG"
      },
      "source": [
        "## Metrics"
      ]
    },
    {
      "cell_type": "markdown",
      "metadata": {
        "id": "CGxKzrX0lRQp"
      },
      "source": [
        "### Accuracy"
      ]
    },
    {
      "cell_type": "code",
      "metadata": {
        "id": "9f9t0llqlN4m"
      },
      "source": [
        ""
      ],
      "execution_count": null,
      "outputs": []
    },
    {
      "cell_type": "markdown",
      "metadata": {
        "id": "pdHZog8flZcu"
      },
      "source": [
        "### Classification Report"
      ]
    },
    {
      "cell_type": "code",
      "metadata": {
        "id": "CDPUtcd3lbtu"
      },
      "source": [
        ""
      ],
      "execution_count": null,
      "outputs": []
    },
    {
      "cell_type": "markdown",
      "metadata": {
        "id": "gXGSjB0Clcgw"
      },
      "source": [
        "### Confusion Matrix"
      ]
    },
    {
      "cell_type": "code",
      "metadata": {
        "id": "AiFdnWVjleyy"
      },
      "source": [
        ""
      ],
      "execution_count": null,
      "outputs": []
    },
    {
      "cell_type": "markdown",
      "metadata": {
        "id": "3QfaeqBZlfaX"
      },
      "source": [
        "### F1 Score"
      ]
    },
    {
      "cell_type": "code",
      "metadata": {
        "id": "GcyeoDPGls9v"
      },
      "source": [
        ""
      ],
      "execution_count": null,
      "outputs": []
    },
    {
      "cell_type": "markdown",
      "metadata": {
        "id": "4ZAVN8T6ltkA"
      },
      "source": [
        "### AUC ROC Score"
      ]
    },
    {
      "cell_type": "code",
      "metadata": {
        "id": "L-9KjGqJlxK6"
      },
      "source": [
        ""
      ],
      "execution_count": null,
      "outputs": []
    },
    {
      "cell_type": "markdown",
      "metadata": {
        "id": "LAdU61aWl4rL"
      },
      "source": [
        "## Saving the Model"
      ]
    },
    {
      "cell_type": "code",
      "metadata": {
        "id": "Ugi50m3ol-Xu"
      },
      "source": [
        "import pickle"
      ],
      "execution_count": 2,
      "outputs": []
    },
    {
      "cell_type": "code",
      "metadata": {
        "id": "L8zB1cSEl_1M"
      },
      "source": [
        "pickle.dump(model,open(\"model_{{model name}}.pkl\",\"wb+\"),protocol=pickle.HIGHEST_PROTOCOL)"
      ],
      "execution_count": null,
      "outputs": []
    }
  ]
}